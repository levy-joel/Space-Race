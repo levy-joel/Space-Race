{
 "cells": [
  {
   "cell_type": "code",
   "execution_count": 1,
   "id": "cf3b0165-beb1-4127-9405-5dd178cc5094",
   "metadata": {},
   "outputs": [],
   "source": [
    "# Import required libraries\n",
    "import pandas as pd\n",
    "import dash\n",
    "from dash import html\n",
    "from dash import dcc\n",
    "from dash.dependencies import Input, Output\n",
    "import plotly.express as px\n",
    "import numpy as np"
   ]
  },
  {
   "cell_type": "code",
   "execution_count": 2,
   "id": "c33b75a5-8a74-4412-90d2-e88e61e49621",
   "metadata": {},
   "outputs": [],
   "source": [
    "# Read the SpaceX \n",
    "spacex_df = pd.read_csv(\"spacex_launch_dash.csv\")\n",
    "\n",
    "# Data needed for the range slider\n",
    "max_payload = spacex_df['Payload Mass (kg)'].max()\n",
    "min_payload = spacex_df['Payload Mass (kg)'].min()\n",
    "scale = {0: '0', 2500: '2500', 5000: '5000', 7500: '7500', 10000: '10000'}"
   ]
  },
  {
   "cell_type": "code",
   "execution_count": 3,
   "id": "bd146449-5f50-44bf-9ad8-6f8e3cbd43d0",
   "metadata": {},
   "outputs": [],
   "source": [
    "# Create a dash application\n",
    "app = dash.Dash(__name__)\n",
    "\n",
    "# Create an app layout\n",
    "app.layout = html.Div(children=[\n",
    "    # Main title of the dashboard\n",
    "    html.H1('SpaceX Launch Records Dashboard', style={'textAlign': 'center', 'color': '#503D36', 'font-size': 40}),\n",
    "\n",
    "    # TASK 1: Create a dropdown selector for the 'Launch site'\n",
    "    dcc.Dropdown(id='site-dropdown', placeholder='Select a Launch Site here', searchable=True, value='ALL',\n",
    "                 options=[{'label': 'All Sites', 'value': 'ALL'},\n",
    "                          {'label': 'CCAFS LC-40', 'value': 'CCAFS LC-40'},\n",
    "                          {'label': 'CCAFS SLC-40', 'value': 'CCAFS SLC-40'},\n",
    "                          {'label': 'KSC LC-39A', 'value': 'KSC LC-39A'},\n",
    "                          {'label': 'VAFB SLC-4E', 'value': 'VAFB SLC-4E'}],\n",
    "                 style={'font-size': '16px', 'text-align-last' : 'left'}), \n",
    "    html.Br(),\n",
    "    \n",
    "    # TASK 2: Add a pie chart to show the total successful launches count for the selected site\n",
    "    html.Div(dcc.Graph(id='success-pie-chart')),\n",
    "    html.Br(),\n",
    "    \n",
    "    # TASK 3: Add a slider to select payload range\n",
    "    html.P(\"Payload range (Kg):\"),\n",
    "    dcc.RangeSlider(id='payload-slider', min=0, max=10000, step=1000, marks=scale,\n",
    "                    value=[min_payload, max_payload], dots=True),\n",
    "    html.Br(),\n",
    "    \n",
    "    # TASK 4: Add a scatter chart to show the correlation between payload and launch success\n",
    "    html.Div(dcc.Graph(id='success-payload-scatter-chart'))\n",
    "    ])"
   ]
  },
  {
   "cell_type": "code",
   "execution_count": 4,
   "id": "2a0b7db0-12ed-4eab-866b-3915179d4385",
   "metadata": {},
   "outputs": [],
   "source": [
    "# Function decorator to specify function input and output\n",
    "@app.callback([Output(component_id='success-pie-chart', component_property='figure'),\n",
    "               Output(component_id='success-payload-scatter-chart', component_property='figure')],\n",
    "              [Input(component_id='site-dropdown', component_property='value'),\n",
    "               Input(component_id='payload-slider', component_property='value')])\n",
    "\n",
    "def get_pie_chart(entered_site, entered_mass):\n",
    "    if entered_site == 'ALL':\n",
    "        filtered_df = spacex_df[(spacex_df['Payload Mass (kg)']>=entered_mass[0]) &\n",
    "                                (spacex_df['Payload Mass (kg)']<=entered_mass[1])]\n",
    "        \n",
    "        pie_fig = px.pie(filtered_df, values='class', names='Launch Site', title='Total Success Launches by Site')\n",
    "        scatter_fig = px.scatter(data_frame=filtered_df, x='Payload Mass (kg)', y='class', color='Booster Version',\n",
    "           title='Correlation between Payload and Success for all Sites')\n",
    "    else:\n",
    "        filtered_df = spacex_df[(spacex_df['Payload Mass (kg)']>=entered_mass[0]) &\n",
    "                                (spacex_df['Payload Mass (kg)']<=entered_mass[1]) &\n",
    "                                (spacex_df['Launch Site']==entered_site)]\n",
    "        pie_fig = px.pie(filtered_df, names='class', title='Total Success Launches for Site ' + entered_site)\n",
    "        scatter_fig = px.scatter(data_frame=filtered_df, x='Payload Mass (kg)', y='class', color='Booster Version Category',\n",
    "           title='Correlation between Payload and Success for Site ' + entered_site)\n",
    "    return pie_fig, scatter_fig"
   ]
  },
  {
   "cell_type": "code",
   "execution_count": null,
   "id": "79c0f19d-0bcc-4c41-ad15-588f260d33db",
   "metadata": {},
   "outputs": [
    {
     "name": "stdout",
     "output_type": "stream",
     "text": [
      "Dash is running on http://127.0.0.1:8050/\n",
      "\n",
      " * Serving Flask app '__main__'\n",
      " * Debug mode: off\n"
     ]
    },
    {
     "name": "stderr",
     "output_type": "stream",
     "text": [
      "WARNING: This is a development server. Do not use it in a production deployment. Use a production WSGI server instead.\n",
      " * Running on http://127.0.0.1:8050\n",
      "Press CTRL+C to quit\n",
      "127.0.0.1 - - [29/Aug/2022 13:25:26] \"GET / HTTP/1.1\" 200 -\n",
      "127.0.0.1 - - [29/Aug/2022 13:25:26] \"GET /_dash-layout HTTP/1.1\" 200 -\n",
      "127.0.0.1 - - [29/Aug/2022 13:25:26] \"GET /_dash-dependencies HTTP/1.1\" 200 -\n",
      "127.0.0.1 - - [29/Aug/2022 13:25:26] \"GET /_dash-component-suites/dash/dcc/async-dropdown.js HTTP/1.1\" 304 -\n",
      "127.0.0.1 - - [29/Aug/2022 13:25:26] \"GET /_dash-component-suites/dash/dcc/async-graph.js HTTP/1.1\" 304 -\n",
      "127.0.0.1 - - [29/Aug/2022 13:25:26] \"GET /_dash-component-suites/dash/dcc/async-slider.js HTTP/1.1\" 304 -\n",
      "127.0.0.1 - - [29/Aug/2022 13:25:26] \"GET /_dash-component-suites/dash/dcc/async-plotlyjs.js HTTP/1.1\" 304 -\n",
      "127.0.0.1 - - [29/Aug/2022 13:25:28] \"POST /_dash-update-component HTTP/1.1\" 200 -\n",
      "127.0.0.1 - - [29/Aug/2022 13:36:45] \"POST /_dash-update-component HTTP/1.1\" 200 -\n",
      "127.0.0.1 - - [29/Aug/2022 13:40:33] \"POST /_dash-update-component HTTP/1.1\" 200 -\n",
      "127.0.0.1 - - [29/Aug/2022 13:40:42] \"POST /_dash-update-component HTTP/1.1\" 200 -\n",
      "127.0.0.1 - - [29/Aug/2022 13:43:38] \"POST /_dash-update-component HTTP/1.1\" 200 -\n",
      "127.0.0.1 - - [29/Aug/2022 13:43:45] \"POST /_dash-update-component HTTP/1.1\" 200 -\n",
      "127.0.0.1 - - [29/Aug/2022 13:43:51] \"POST /_dash-update-component HTTP/1.1\" 200 -\n",
      "127.0.0.1 - - [29/Aug/2022 13:43:53] \"POST /_dash-update-component HTTP/1.1\" 200 -\n",
      "127.0.0.1 - - [29/Aug/2022 13:43:59] \"POST /_dash-update-component HTTP/1.1\" 200 -\n",
      "127.0.0.1 - - [29/Aug/2022 13:44:00] \"POST /_dash-update-component HTTP/1.1\" 200 -\n",
      "127.0.0.1 - - [29/Aug/2022 13:44:04] \"POST /_dash-update-component HTTP/1.1\" 200 -\n",
      "127.0.0.1 - - [29/Aug/2022 13:44:09] \"POST /_dash-update-component HTTP/1.1\" 200 -\n",
      "127.0.0.1 - - [29/Aug/2022 13:44:34] \"POST /_dash-update-component HTTP/1.1\" 200 -\n",
      "127.0.0.1 - - [29/Aug/2022 13:46:45] \"POST /_dash-update-component HTTP/1.1\" 200 -\n",
      "127.0.0.1 - - [29/Aug/2022 13:46:50] \"POST /_dash-update-component HTTP/1.1\" 200 -\n",
      "127.0.0.1 - - [29/Aug/2022 13:46:57] \"POST /_dash-update-component HTTP/1.1\" 200 -\n",
      "127.0.0.1 - - [29/Aug/2022 13:47:09] \"POST /_dash-update-component HTTP/1.1\" 200 -\n",
      "127.0.0.1 - - [29/Aug/2022 13:47:12] \"POST /_dash-update-component HTTP/1.1\" 200 -\n",
      "127.0.0.1 - - [29/Aug/2022 13:47:18] \"POST /_dash-update-component HTTP/1.1\" 200 -\n",
      "127.0.0.1 - - [29/Aug/2022 13:48:19] \"POST /_dash-update-component HTTP/1.1\" 200 -\n",
      "127.0.0.1 - - [29/Aug/2022 13:48:25] \"POST /_dash-update-component HTTP/1.1\" 200 -\n",
      "127.0.0.1 - - [29/Aug/2022 13:48:35] \"POST /_dash-update-component HTTP/1.1\" 200 -\n",
      "127.0.0.1 - - [29/Aug/2022 13:48:41] \"POST /_dash-update-component HTTP/1.1\" 200 -\n",
      "127.0.0.1 - - [29/Aug/2022 13:48:49] \"POST /_dash-update-component HTTP/1.1\" 200 -\n",
      "127.0.0.1 - - [29/Aug/2022 13:51:49] \"POST /_dash-update-component HTTP/1.1\" 200 -\n",
      "127.0.0.1 - - [29/Aug/2022 13:51:54] \"POST /_dash-update-component HTTP/1.1\" 200 -\n",
      "127.0.0.1 - - [29/Aug/2022 13:52:05] \"POST /_dash-update-component HTTP/1.1\" 200 -\n",
      "127.0.0.1 - - [29/Aug/2022 13:52:07] \"POST /_dash-update-component HTTP/1.1\" 200 -\n",
      "127.0.0.1 - - [29/Aug/2022 13:52:23] \"POST /_dash-update-component HTTP/1.1\" 200 -\n"
     ]
    }
   ],
   "source": [
    "# Run the app\n",
    "if __name__ == '__main__':\n",
    "    app.run_server()"
   ]
  }
 ],
 "metadata": {
  "kernelspec": {
   "display_name": "Python 3 (ipykernel)",
   "language": "python",
   "name": "python3"
  },
  "language_info": {
   "codemirror_mode": {
    "name": "ipython",
    "version": 3
   },
   "file_extension": ".py",
   "mimetype": "text/x-python",
   "name": "python",
   "nbconvert_exporter": "python",
   "pygments_lexer": "ipython3",
   "version": "3.10.6"
  }
 },
 "nbformat": 4,
 "nbformat_minor": 5
}
